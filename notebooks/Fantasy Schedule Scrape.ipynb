{
 "metadata": {
  "name": "",
  "signature": "sha256:9212bbc258bc0afce53f4c212754f30052e45a8cc3a02d5e7207b2c3d0538a86"
 },
 "nbformat": 3,
 "nbformat_minor": 0,
 "worksheets": [
  {
   "cells": [
    {
     "cell_type": "code",
     "collapsed": false,
     "input": [
      "import requests\n",
      "import bs4\n",
      "\n",
      "import pandas as pd\n",
      "from pandas import DataFrame"
     ],
     "language": "python",
     "metadata": {},
     "outputs": [],
     "prompt_number": 2
    },
    {
     "cell_type": "code",
     "collapsed": false,
     "input": [
      "LOGIN_URL = 'https://r.espn.go.com/espn/memberservices/pc/login'\n",
      "# Fill in your details here to be posted to the login form.\n",
      "payload = {\n",
      "    'username': 'filiwickers',\n",
      "    'password': 'blueman',\n",
      "    'submit': 'Sign In',\n",
      "    'failedAttempts':2,\n",
      "    'SUBMIT':1,\n",
      "    'aff_code' : 'espn_fantgames',\n",
      "    'cookieDomain' :'.go.com',\n",
      "    'multipleDomains':'true',\n",
      "    \n",
      "}\n",
      "\n",
      "SCHEDULE_URL = 'http://games.espn.go.com/fba/schedule'\n",
      "params = (\n",
      "    ('leagueId',14029),\n",
      "    ('seasonId',2015),\n",
      ")\n",
      "\n",
      "weeks = []\n",
      "with requests.Session() as s:\n",
      "    s.post(LOGIN_URL, data=payload)\n",
      "\n",
      "    r = s.get(SCHEDULE_URL, params=params)    \n",
      "    print(r.url)\n",
      "        \n",
      "    soup = bs4.BeautifulSoup(r.text)\n",
      "    schedule_table = soup.find('table', class_='tableBody')"
     ],
     "language": "python",
     "metadata": {},
     "outputs": [
      {
       "output_type": "stream",
       "stream": "stdout",
       "text": [
        "http://games.espn.go.com/fba/schedule?leagueId=14029&seasonId=2015\n"
       ]
      }
     ],
     "prompt_number": 8
    },
    {
     "cell_type": "code",
     "collapsed": false,
     "input": [
      "#{week:1, start_date:oct 28, end_date:nov 7, matchups=[(joe,fish), ()...]}\n",
      "from itertools import zip_longest\n",
      "def grouper(iterable, n, padvalue=None):\n",
      "  \"grouper(3, 'abcdefg', 'x') --> ('a','b','c'), ('d','e','f'), ('g','x','x')\"\n",
      "  return zip_longest(*[iter(iterable)]*n, fillvalue=padvalue)\n",
      "\n",
      "rows = schedule_table.find_all('tr')\n",
      "\n",
      "schedule = []\n",
      "for row in grouper(rows, 10):\n",
      "    header = row[0].find('td')\n",
      "    if 'ROUND' in header.text:\n",
      "        break\n",
      "    cols = row[1]\n",
      "    matchups = row[2:8]\n",
      "    \n",
      "    week = int(header.text.split('(')[0].split(' ')[1].strip())\n",
      "    start_date = header.text.split('(')[1].split('-')[0].strip()\n",
      "    end_date = header.text.split('(')[1].split('-')[1].split(')')[0].strip()\n",
      "\n",
      "    \n",
      "    for match in matchups: \n",
      "        team1_owner = match.find_all('td')[1].text\n",
      "        team1_id = match.find_all('td')[0].find('a')['href'].split('&')[1].split('=')[1]\n",
      "        team2_owner = match.find_all('td')[4].text\n",
      "        team2_id = match.find_all('td')[3].find('a')['href'].split('&')[1].split('=')[1]\n",
      "        team1 = {\n",
      "            'owner':team1_owner,\n",
      "            'team_id':team1_id\n",
      "        }\n",
      "        team2 = {\n",
      "            'owner':team2_owner,\n",
      "            'team_id':team2_id\n",
      "        }\n",
      "        item = {\n",
      "            'week':week,\n",
      "            'start_date':start_date,\n",
      "            'end_date':end_date,\n",
      "            'team1_id': team1_id,\n",
      "            'team1_owner':team1_owner,\n",
      "            'team2_owner':team2_owner,\n",
      "            'team2_id':team2_id\n",
      "        }\n",
      "        #item['matches'].append((team1,team2))\n",
      "        \n",
      "        schedule.append(item)"
     ],
     "language": "python",
     "metadata": {},
     "outputs": [],
     "prompt_number": 48
    },
    {
     "cell_type": "code",
     "collapsed": false,
     "input": [
      "DataFrame(schedule).to_csv('../data/fantasy_schedule.csv', index=False)"
     ],
     "language": "python",
     "metadata": {},
     "outputs": [],
     "prompt_number": 49
    },
    {
     "cell_type": "code",
     "collapsed": false,
     "input": [],
     "language": "python",
     "metadata": {},
     "outputs": []
    }
   ],
   "metadata": {}
  }
 ]
}