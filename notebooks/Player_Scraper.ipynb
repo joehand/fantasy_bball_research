{
 "metadata": {
  "name": "",
  "signature": "sha256:48405b07e0ed7e3910e6f11c683c8a0cbe9e1abd4c4b4aff238e403c84fe3924"
 },
 "nbformat": 3,
 "nbformat_minor": 0,
 "worksheets": [
  {
   "cells": [
    {
     "cell_type": "code",
     "collapsed": false,
     "input": [
      "%matplotlib inline"
     ],
     "language": "python",
     "metadata": {},
     "outputs": [],
     "prompt_number": 6
    },
    {
     "cell_type": "code",
     "collapsed": false,
     "input": [
      "import requests\n",
      "import bs4\n",
      "\n",
      "import pandas as pd\n",
      "from pandas import DataFrame"
     ],
     "language": "python",
     "metadata": {},
     "outputs": [],
     "prompt_number": 1
    },
    {
     "cell_type": "code",
     "collapsed": false,
     "input": [
      "OLD_FILE = '../Data/playerData.csv'\n",
      "\n",
      "oldData = pd.read_csv(OLD_FILE)"
     ],
     "language": "python",
     "metadata": {},
     "outputs": [],
     "prompt_number": 48
    },
    {
     "cell_type": "code",
     "collapsed": false,
     "input": [
      "LOGIN_URL = 'https://r.espn.go.com/espn/memberservices/pc/login'\n",
      "# Fill in your details here to be posted to the login form.\n",
      "payload = {\n",
      "    'username': 'filiwickers',\n",
      "    'password': 'blueman',\n",
      "    'submit': 'Sign In',\n",
      "    'failedAttempts':2,\n",
      "    'SUBMIT':1,\n",
      "    'aff_code' : 'espn_fantgames',\n",
      "    'cookieDomain' :'.go.com',\n",
      "    'multipleDomains':'true',\n",
      "    \n",
      "}\n",
      "\n",
      "FANTASY_URL = 'http://games.espn.go.com/fba/playertable/prebuilt/freeagency'\n",
      "params = (\n",
      "    ('leagueId',14029),\n",
      "    ('teamId',1),\n",
      "    ('seasonId',2015),\n",
      "    ('','undefined'),\n",
      "    ('avail',-1),\n",
      "    ('scoringPeriodID',1),\n",
      "    ('view','stats'),\n",
      "    ('context','freeagency'),\n",
      "    ('version','lastSeason'), #or ('version', 'projections')\n",
      "    ('r',48197013),\n",
      "    ('startIndex',0),\n",
      ")\n",
      "params2 = (\n",
      "    ('leagueId',14029),\n",
      "    ('teamId',1),\n",
      "    ('seasonId',2015),\n",
      "    ('','undefined'),\n",
      "    ('avail',-1),\n",
      "    ('scoringPeriodID',1),\n",
      "    ('view','stats'),\n",
      "    ('context','freeagency'),\n",
      "    ('version','projections'), #or ('version', 'projections')\n",
      "    ('r',48197013),\n",
      "    ('startIndex',0),\n",
      ") \n",
      "#?leagueId=14029&teamId=1&seasonId=2015&=undefined&avail=-1&scoringPeriodId=1&view=stats&context=freeagency&version=lastSeason&r=48197013#\n",
      "\n",
      "NUM_PLAYERS = 10 * 12\n",
      "startIndex = 0\n",
      "\n",
      "players =[]\n",
      "players_proj =[]\n",
      "columns = []\n",
      "with requests.Session() as s:\n",
      "    s.post(LOGIN_URL, data=payload)\n",
      "    \n",
      "    while startIndex < (NUM_PLAYERS + 100):\n",
      "        params = list(params)[:-1] + [('startIndex',startIndex)]\n",
      "        params = tuple(params)\n",
      "\n",
      "        r = s.get(FANTASY_URL, params=params)    \n",
      "        print(r.url)\n",
      "        \n",
      "        soup = bs4.BeautifulSoup(r.text)\n",
      "        players.extend(soup.find_all(\"tr\", class_=\"pncPlayerRow\"))\n",
      "        startIndex += 50   \n",
      "    \n",
      "    startIndex2 = 0    \n",
      "    while startIndex2 < (NUM_PLAYERS + 100):\n",
      "        params2 = list(params2)[:-1] + [('startIndex',startIndex2)]\n",
      "        params2 = tuple(params2)\n",
      "\n",
      "        r = s.get(FANTASY_URL, params=params2)    \n",
      "        print(r.url)\n",
      "        \n",
      "        soup = bs4.BeautifulSoup(r.text)\n",
      "        players_proj.extend(soup.find_all(\"tr\", class_=\"pncPlayerRow\"))\n",
      "        startIndex2 += 50    \n",
      "  \n",
      "    columns = soup.find('tr', class_='playerTableBgRowSubhead')\n",
      "\n",
      "len(players)\n",
      "len(players_proj)"
     ],
     "language": "python",
     "metadata": {},
     "outputs": [
      {
       "output_type": "stream",
       "stream": "stdout",
       "text": [
        "http://games.espn.go.com/fba/playertable/prebuilt/freeagency?leagueId=14029&teamId=1&seasonId=2015&=undefined&avail=-1&scoringPeriodID=1&view=stats&context=freeagency&version=lastSeason&r=48197013&startIndex=0\n",
        "http://games.espn.go.com/fba/playertable/prebuilt/freeagency?leagueId=14029&teamId=1&seasonId=2015&=undefined&avail=-1&scoringPeriodID=1&view=stats&context=freeagency&version=lastSeason&r=48197013&startIndex=50"
       ]
      },
      {
       "output_type": "stream",
       "stream": "stdout",
       "text": [
        "\n",
        "http://games.espn.go.com/fba/playertable/prebuilt/freeagency?leagueId=14029&teamId=1&seasonId=2015&=undefined&avail=-1&scoringPeriodID=1&view=stats&context=freeagency&version=lastSeason&r=48197013&startIndex=100"
       ]
      },
      {
       "output_type": "stream",
       "stream": "stdout",
       "text": [
        "\n",
        "http://games.espn.go.com/fba/playertable/prebuilt/freeagency?leagueId=14029&teamId=1&seasonId=2015&=undefined&avail=-1&scoringPeriodID=1&view=stats&context=freeagency&version=lastSeason&r=48197013&startIndex=150"
       ]
      },
      {
       "output_type": "stream",
       "stream": "stdout",
       "text": [
        "\n",
        "http://games.espn.go.com/fba/playertable/prebuilt/freeagency?leagueId=14029&teamId=1&seasonId=2015&=undefined&avail=-1&scoringPeriodID=1&view=stats&context=freeagency&version=lastSeason&r=48197013&startIndex=200"
       ]
      },
      {
       "output_type": "stream",
       "stream": "stdout",
       "text": [
        "\n",
        "http://games.espn.go.com/fba/playertable/prebuilt/freeagency?leagueId=14029&teamId=1&seasonId=2015&=undefined&avail=-1&scoringPeriodID=1&view=stats&context=freeagency&version=projections&r=48197013&startIndex=0"
       ]
      },
      {
       "output_type": "stream",
       "stream": "stdout",
       "text": [
        "\n",
        "http://games.espn.go.com/fba/playertable/prebuilt/freeagency?leagueId=14029&teamId=1&seasonId=2015&=undefined&avail=-1&scoringPeriodID=1&view=stats&context=freeagency&version=projections&r=48197013&startIndex=50"
       ]
      },
      {
       "output_type": "stream",
       "stream": "stdout",
       "text": [
        "\n",
        "http://games.espn.go.com/fba/playertable/prebuilt/freeagency?leagueId=14029&teamId=1&seasonId=2015&=undefined&avail=-1&scoringPeriodID=1&view=stats&context=freeagency&version=projections&r=48197013&startIndex=100"
       ]
      },
      {
       "output_type": "stream",
       "stream": "stdout",
       "text": [
        "\n",
        "http://games.espn.go.com/fba/playertable/prebuilt/freeagency?leagueId=14029&teamId=1&seasonId=2015&=undefined&avail=-1&scoringPeriodID=1&view=stats&context=freeagency&version=projections&r=48197013&startIndex=150"
       ]
      },
      {
       "output_type": "stream",
       "stream": "stdout",
       "text": [
        "\n",
        "http://games.espn.go.com/fba/playertable/prebuilt/freeagency?leagueId=14029&teamId=1&seasonId=2015&=undefined&avail=-1&scoringPeriodID=1&view=stats&context=freeagency&version=projections&r=48197013&startIndex=200"
       ]
      },
      {
       "output_type": "stream",
       "stream": "stdout",
       "text": [
        "\n"
       ]
      },
      {
       "metadata": {},
       "output_type": "pyout",
       "prompt_number": 6,
       "text": [
        "250"
       ]
      }
     ],
     "prompt_number": 6
    },
    {
     "cell_type": "code",
     "collapsed": false,
     "input": [
      "cols = [col.text.strip() for col in columns.find_all('td')]\n",
      "players_clean = [[col.text.strip() for col in player.find_all('td')] for player in players]\n",
      "players_proj_clean = [[col.text.strip() for col in player.find_all('td')] for player in players_proj]"
     ],
     "language": "python",
     "metadata": {},
     "outputs": [],
     "prompt_number": 7
    },
    {
     "cell_type": "code",
     "collapsed": false,
     "input": [
      "SCORE_COLS = ['PTS', 'REB', 'AST', 'STL', 'BLK', '3PM']\n",
      "\n",
      "playerDF = DataFrame(players_clean, columns=cols)\n",
      "playerProjDF = DataFrame(players_proj_clean, columns=cols).dropna(subset=SCORE_COLS)\n",
      "\n",
      "def clean_df(df):\n",
      "    df['PLAYER'] = df['PLAYER, TEAM POS'].apply(lambda x: x.split(',')[0].strip())\n",
      "    df['TEAM'] = df['PLAYER, TEAM POS'].apply(lambda x: x.split(',')[1][:4].strip())\n",
      "    df['POS'] = df['PLAYER, TEAM POS'].apply(lambda x: x.split(',')[1][4:7].strip())\n",
      "    df = df[['PLAYER','TEAM', 'POS', 'MIN', 'PTS', 'REB', 'AST', 'STL', 'BLK','3PM']]\n",
      "\n",
      "    df['PLAYER'] = df['PLAYER'].apply(lambda x: x.replace('*',''))\n",
      "    df['PLAYER'] = df['PLAYER'].apply(lambda x: ' '.join(x.split()))\n",
      "    df = df.reindex(columns=['PLAYER','TEAM', 'POS', 'MIN', 'PTS', 'REB', 'AST', 'STL', 'BLK','3PM'])\n",
      "    df = df.replace(to_replace='--', value='NaN')\n",
      "    df[list(SCORE_COLS + ['MIN'])] = df[list(SCORE_COLS + ['MIN'])].astype(float)\n",
      "    \n",
      "    return df\n",
      "\n",
      "playerDF = clean_df(playerDF)\n",
      "playerProjDF = clean_df(playerProjDF)\n",
      "playerProjDF = playerProjDF[list(SCORE_COLS + ['PLAYER','MIN'])]\n",
      "\n",
      "playerDF = playerDF.merge(playerProjDF, how='outer', on='PLAYER', suffixes=('_2014', '_ESPN'))\n",
      "\n",
      "playerDF.info()"
     ],
     "language": "python",
     "metadata": {},
     "outputs": [
      {
       "output_type": "stream",
       "stream": "stderr",
       "text": [
        "-c:12: SettingWithCopyWarning: A value is trying to be set on a copy of a slice from a DataFrame.\n",
        "Try using .loc[row_index,col_indexer] = value instead\n",
        "-c:13: SettingWithCopyWarning: A value is trying to be set on a copy of a slice from a DataFrame.\n",
        "Try using .loc[row_index,col_indexer] = value instead\n"
       ]
      },
      {
       "output_type": "stream",
       "stream": "stdout",
       "text": [
        "<class 'pandas.core.frame.DataFrame'>\n",
        "Int64Index: 250 entries, 0 to 249\n",
        "Data columns (total 17 columns):\n",
        "PLAYER      250 non-null object\n",
        "TEAM        250 non-null object\n",
        "POS         250 non-null object\n",
        "MIN_2014    219 non-null float64\n",
        "PTS_2014    219 non-null float64\n",
        "REB_2014    219 non-null float64\n",
        "AST_2014    219 non-null float64\n",
        "STL_2014    219 non-null float64\n",
        "BLK_2014    219 non-null float64\n",
        "3PM_2014    219 non-null float64\n",
        "PTS_ESPN    236 non-null float64\n",
        "REB_ESPN    236 non-null float64\n",
        "AST_ESPN    236 non-null float64\n",
        "STL_ESPN    236 non-null float64\n",
        "BLK_ESPN    236 non-null float64\n",
        "3PM_ESPN    236 non-null float64\n",
        "MIN_ESPN    236 non-null float64\n",
        "dtypes: float64(14), object(3)"
       ]
      }
     ],
     "prompt_number": 8
    },
    {
     "cell_type": "code",
     "collapsed": false,
     "input": [
      "ROTOWORLD_FILE = 'Data/allpos_projections_rotoworld.xlsx'\n",
      "\n",
      "rwProj = pd.read_excel(ROTOWORLD_FILE, skiprows=2)\n",
      "rwProj = rwProj[['Player','MIN', 'PTS', '3PT', 'REB', 'AST', 'STL', 'BLK']]\n",
      "rwProj = rwProj.dropna()\n",
      "rwProj = rwProj[rwProj['Player'] != 'Player']\n",
      "rwProj['Player'] = rwProj['Player'].apply(lambda x: ' '.join(x.split()))\n",
      "rwProj = rwProj.rename(columns=lambda x: x + '_RW')"
     ],
     "language": "python",
     "metadata": {},
     "outputs": [],
     "prompt_number": 9
    },
    {
     "cell_type": "code",
     "collapsed": false,
     "input": [
      "ROTOWIRE_FILE = '../Data/rotowire.xlsx'\n",
      "\n",
      "wireProj = pd.read_excel(ROTOWIRE_FILE, skiprows=1)\n",
      "wireProj = wireProj[['Name','MPG', 'PTS', '3PM', 'REB', 'AST', 'STL', 'BLK']]\n",
      "wireProj = wireProj.dropna()\n",
      "wireProj = wireProj.rename(columns={'MPG':'MIN', 'Name':'PLAYER'})\n",
      "wireProj['PLAYER'] = wireProj['PLAYER'].apply(lambda x: ' '.join(x.split()))\n",
      "wireProj = wireProj.rename(columns=lambda x: x + '_WIRE')\n",
      "cols = wireProj._get_numeric_data().columns\n",
      "wireProj[cols] = wireProj._get_numeric_data().applymap(lambda x:round(x, 2))"
     ],
     "language": "python",
     "metadata": {},
     "outputs": [],
     "prompt_number": 3
    },
    {
     "cell_type": "code",
     "collapsed": false,
     "input": [
      "playerDF2 = oldData.merge(wireProj, how='left', left_on='PLAYER', right_on='PLAYER_WIRE', suffixes=('_ESPN', '_RW'))\n",
      "del (playerDF2['PLAYER_WIRE'])\n",
      "playerDF2.info()"
     ],
     "language": "python",
     "metadata": {},
     "outputs": [
      {
       "output_type": "stream",
       "stream": "stdout",
       "text": [
        "<class 'pandas.core.frame.DataFrame'>\n",
        "Int64Index: 243 entries, 0 to 242\n",
        "Data columns (total 31 columns):\n",
        "PLAYER      243 non-null object\n",
        "TEAM        243 non-null object\n",
        "POS         243 non-null object\n",
        "MIN_2014    219 non-null float64\n",
        "PTS_2014    219 non-null float64\n",
        "REB_2014    219 non-null float64\n",
        "AST_2014    219 non-null float64\n",
        "STL_2014    219 non-null float64\n",
        "BLK_2014    219 non-null float64\n",
        "3PM_2014    219 non-null float64\n",
        "PTS_ESPN    236 non-null float64\n",
        "REB_ESPN    236 non-null float64\n",
        "AST_ESPN    236 non-null float64\n",
        "STL_ESPN    236 non-null float64\n",
        "BLK_ESPN    236 non-null float64\n",
        "3PM_ESPN    236 non-null float64\n",
        "MIN_ESPN    236 non-null float64\n",
        "MIN_RW      230 non-null float64\n",
        "PTS_RW      230 non-null float64\n",
        "3PT_RW      230 non-null float64\n",
        "REB_RW      230 non-null float64\n",
        "AST_RW      230 non-null float64\n",
        "STL_RW      230 non-null float64\n",
        "BLK_RW      230 non-null float64\n",
        "MIN_WIRE    233 non-null float64\n",
        "PTS_WIRE    233 non-null float64\n",
        "3PM_WIRE    233 non-null float64\n",
        "REB_WIRE    233 non-null float64\n",
        "AST_WIRE    233 non-null float64\n",
        "STL_WIRE    233 non-null float64\n",
        "BLK_WIRE    233 non-null float64\n",
        "dtypes: float64(28), object(3)"
       ]
      }
     ],
     "prompt_number": 4
    },
    {
     "cell_type": "code",
     "collapsed": false,
     "input": [
      "playerDF2 = playerDF.merge(rwProj, how='left', left_on='PLAYER', right_on='Player_RW', suffixes=('_ESPN', '_RW'))\n",
      "del (playerDF2['Player_RW'])\n",
      "playerDF2.info()"
     ],
     "language": "python",
     "metadata": {},
     "outputs": [
      {
       "output_type": "stream",
       "stream": "stdout",
       "text": [
        "<class 'pandas.core.frame.DataFrame'>\n",
        "Int64Index: 250 entries, 0 to 249\n",
        "Data columns (total 24 columns):\n",
        "PLAYER      250 non-null object\n",
        "TEAM        250 non-null object\n",
        "POS         250 non-null object\n",
        "MIN_2014    219 non-null float64\n",
        "PTS_2014    219 non-null float64\n",
        "REB_2014    219 non-null float64\n",
        "AST_2014    219 non-null float64\n",
        "STL_2014    219 non-null float64\n",
        "BLK_2014    219 non-null float64\n",
        "3PM_2014    219 non-null float64\n",
        "PTS_ESPN    236 non-null float64\n",
        "REB_ESPN    236 non-null float64\n",
        "AST_ESPN    236 non-null float64\n",
        "STL_ESPN    236 non-null float64\n",
        "BLK_ESPN    236 non-null float64\n",
        "3PM_ESPN    236 non-null float64\n",
        "MIN_ESPN    236 non-null float64\n",
        "MIN_RW      230 non-null object\n",
        "PTS_RW      230 non-null object\n",
        "3PT_RW      230 non-null object\n",
        "REB_RW      230 non-null object\n",
        "AST_RW      230 non-null object\n",
        "STL_RW      230 non-null object\n",
        "BLK_RW      230 non-null object\n",
        "dtypes: float64(14), object(10)"
       ]
      }
     ],
     "prompt_number": 17
    },
    {
     "cell_type": "code",
     "collapsed": false,
     "input": [
      "stats_cols = playerDF2.filter(regex='_').columns\n",
      "playerDF2 = playerDF2.dropna(subset=stats_cols, how='all')"
     ],
     "language": "python",
     "metadata": {},
     "outputs": [],
     "prompt_number": 18
    },
    {
     "cell_type": "code",
     "collapsed": false,
     "input": [
      "playerDF2.to_csv('../data/playerData.csv', index=False)"
     ],
     "language": "python",
     "metadata": {},
     "outputs": [],
     "prompt_number": 5
    },
    {
     "cell_type": "code",
     "collapsed": false,
     "input": [
      "players =[]\n",
      "columns = []\n",
      "\n",
      "URL = 'http://basketball.razzball.com/razzball-top-200-downloadable-spreadsheet'\n",
      "\n",
      "with requests.Session() as s:  \n",
      "    r = s.get(URL)    \n",
      "        \n",
      "    soup = bs4.BeautifulSoup(r.text)\n",
      "    players.extend(soup.find_all('tr'))\n",
      "  \n",
      "len(players)"
     ],
     "language": "python",
     "metadata": {},
     "outputs": [
      {
       "metadata": {},
       "output_type": "pyout",
       "prompt_number": 16,
       "text": [
        "201"
       ]
      }
     ],
     "prompt_number": 16
    },
    {
     "cell_type": "code",
     "collapsed": false,
     "input": [
      "cols = [col.text.strip() for col in players[0].find_all('th')]\n",
      "players_clean = [[col.text.strip() for col in player.find_all('td')] for player in players[1:]]"
     ],
     "language": "python",
     "metadata": {},
     "outputs": [],
     "prompt_number": 78
    },
    {
     "cell_type": "code",
     "collapsed": false,
     "input": [
      "razzB = DataFrame(players_clean, columns=cols)\n",
      "razzB = razzB.drop(labels=['#', 'POS', 'FG%', 'FT%', 'NOTES', 'TO'], axis=1)\n",
      "razzB = razzB.rename(columns={'3P':'3PM', 'RBS':'REB'})\n",
      "razzB = razzB[~razzB['PLAYER'].str.contains('in progress')]\n",
      "razzB['PLAYER'] = razzB['PLAYER'].apply(lambda x: x.split(',')[0].strip())\n",
      "razzB = razzB.rename(columns=lambda x: x + '_RB')\n",
      "razzB = razzB.rename(columns={'PLAYER_RB':'PLAYER'})\n",
      "razzB.info()"
     ],
     "language": "python",
     "metadata": {},
     "outputs": [
      {
       "output_type": "stream",
       "stream": "stdout",
       "text": [
        "<class 'pandas.core.frame.DataFrame'>\n",
        "Int64Index: 197 entries, 0 to 199\n",
        "Data columns (total 8 columns):\n",
        "PLAYER    197 non-null object\n",
        "3PM_RB    197 non-null object\n",
        "PTS_RB    197 non-null object\n",
        "REB_RB    197 non-null object\n",
        "AST_RB    197 non-null object\n",
        "STL_RB    197 non-null object\n",
        "BLK_RB    197 non-null object\n",
        "MIN_RB    197 non-null object\n",
        "dtypes: object(8)"
       ]
      }
     ],
     "prompt_number": 79
    },
    {
     "cell_type": "code",
     "collapsed": false,
     "input": [
      "playerDF2 = oldData.merge(razzB, how='left', on='PLAYER')\n",
      "playerDF2 = playerDF2.rename(columns={'3PT_RW':'3PM_RW'})\n",
      "playerDF2.info()"
     ],
     "language": "python",
     "metadata": {},
     "outputs": [
      {
       "output_type": "stream",
       "stream": "stdout",
       "text": [
        "<class 'pandas.core.frame.DataFrame'>\n",
        "Int64Index: 243 entries, 0 to 242\n",
        "Data columns (total 38 columns):\n",
        "PLAYER      243 non-null object\n",
        "TEAM        243 non-null object\n",
        "POS         243 non-null object\n",
        "MIN_2014    219 non-null float64\n",
        "PTS_2014    219 non-null float64\n",
        "REB_2014    219 non-null float64\n",
        "AST_2014    219 non-null float64\n",
        "STL_2014    219 non-null float64\n",
        "BLK_2014    219 non-null float64\n",
        "3PM_2014    219 non-null float64\n",
        "PTS_ESPN    236 non-null float64\n",
        "REB_ESPN    236 non-null float64\n",
        "AST_ESPN    236 non-null float64\n",
        "STL_ESPN    236 non-null float64\n",
        "BLK_ESPN    236 non-null float64\n",
        "3PM_ESPN    236 non-null float64\n",
        "MIN_ESPN    236 non-null float64\n",
        "MIN_RW      230 non-null float64\n",
        "PTS_RW      230 non-null float64\n",
        "3PM_RW      230 non-null float64\n",
        "REB_RW      230 non-null float64\n",
        "AST_RW      230 non-null float64\n",
        "STL_RW      230 non-null float64\n",
        "BLK_RW      230 non-null float64\n",
        "MIN_WIRE    233 non-null float64\n",
        "PTS_WIRE    233 non-null float64\n",
        "3PM_WIRE    233 non-null float64\n",
        "REB_WIRE    233 non-null float64\n",
        "AST_WIRE    233 non-null float64\n",
        "STL_WIRE    233 non-null float64\n",
        "BLK_WIRE    233 non-null float64\n",
        "3PM_RB      179 non-null object\n",
        "PTS_RB      179 non-null object\n",
        "REB_RB      179 non-null object\n",
        "AST_RB      179 non-null object\n",
        "STL_RB      179 non-null object\n",
        "BLK_RB      179 non-null object\n",
        "MIN_RB      179 non-null object\n",
        "dtypes: float64(28), object(10)"
       ]
      }
     ],
     "prompt_number": 80
    },
    {
     "cell_type": "code",
     "collapsed": false,
     "input": [
      "OLD_FILE = '../Data/sources/playerData.csv'\n",
      "\n",
      "playerDF2 = pd.read_csv(OLD_FILE)"
     ],
     "language": "python",
     "metadata": {},
     "outputs": [],
     "prompt_number": 4
    },
    {
     "cell_type": "code",
     "collapsed": false,
     "input": [
      "stat_cols = ['MIN', 'PTS', 'REB', 'AST', 'STL', 'BLK', '3PM']\n",
      "\n",
      "for col in stat_cols:\n",
      "    cols = playerDF2.filter(regex=col).columns\n",
      "    cols = [col for col in cols if '2014' not in col]\n",
      "    print (cols)\n",
      "    playerDF2[col + '_AVG'] = playerDF2[cols].mean(axis=1).apply(lambda x:round(x, 2))"
     ],
     "language": "python",
     "metadata": {},
     "outputs": [
      {
       "output_type": "stream",
       "stream": "stdout",
       "text": [
        "['MIN_ESPN', 'MIN_RW', 'MIN_WIRE']\n",
        "['PTS_ESPN', 'PTS_RW', 'PTS_WIRE']\n",
        "['REB_ESPN', 'REB_RW', 'REB_WIRE']\n",
        "['AST_ESPN', 'AST_RW', 'AST_WIRE']\n",
        "['STL_ESPN', 'STL_RW', 'STL_WIRE']\n",
        "['BLK_ESPN', 'BLK_RW', 'BLK_WIRE']\n",
        "['3PM_ESPN', '3PM_RW', '3PM_WIRE']\n"
       ]
      }
     ],
     "prompt_number": 5
    },
    {
     "cell_type": "code",
     "collapsed": false,
     "input": [
      "playerDF2.to_csv('../data/playerData_Avg.csv', index=False)"
     ],
     "language": "python",
     "metadata": {},
     "outputs": [],
     "prompt_number": 6
    },
    {
     "cell_type": "code",
     "collapsed": false,
     "input": [
      "(playerDF2['PTS_AVG'] - playerDF2['PTS_RW']).mean()"
     ],
     "language": "python",
     "metadata": {},
     "outputs": [
      {
       "metadata": {},
       "output_type": "pyout",
       "prompt_number": 91,
       "text": [
        "-0.23452173913043475"
       ]
      }
     ],
     "prompt_number": 91
    },
    {
     "cell_type": "code",
     "collapsed": false,
     "input": [],
     "language": "python",
     "metadata": {},
     "outputs": []
    }
   ],
   "metadata": {}
  }
 ]
}